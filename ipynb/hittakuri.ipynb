{
 "metadata": {
  "name": "",
  "signature": "sha256:ec4c549bd1fd8343a809c624594cdaa780e6ee73902aff7c2b7a0922a209d9f4"
 },
 "nbformat": 3,
 "nbformat_minor": 0,
 "worksheets": [
  {
   "cells": [
    {
     "cell_type": "heading",
     "level": 1,
     "metadata": {},
     "source": [
      "\u5927\u962a\u5e02\u306e\u72af\u7f6a\u767a\u751f\u60c5\u5831\u3067\u30b0\u30e9\u30d5\u3092\u63cf\u304f"
     ]
    },
    {
     "cell_type": "markdown",
     "metadata": {},
     "source": [
      "[http://www.city.osaka.lg.jp/shimin/page/0000298810.html \u304b\u3089CSV\u306eURL\u30ea\u30b9\u30c8\u3092\u751f\u6210](https://gist.github.com/tosh1ki/29158bb440e2142fc457)\n",
      "\n",
      "\u4e8b\u524d\u306b\n",
      "\n",
      "1. `python3 crawl_osaka_hanzai.py` \u3067URL\u30ea\u30b9\u30c8\u3092\u751f\u6210\n",
      "2. `wget -i urllist.csv -w1` \u3067\u30c0\u30a6\u30f3\u30ed\u30fc\u30c9\n",
      "3. `nkf -u --overwrite *.csv` \u3067\u6587\u5b57\u30b3\u30fc\u30c9\u3092\u5909\u63db\n",
      "\n",
      "\u3067\u30c7\u30fc\u30bf\u3092\u751f\u6210\u3057\u3066\u304a\u304f"
     ]
    },
    {
     "cell_type": "code",
     "collapsed": false,
     "input": [
      "import os\n",
      "import re\n",
      "import datetime as dt\n",
      "import matplotlib\n",
      "import matplotlib.pyplot as plt\n",
      "import numpy as np\n",
      "import pandas as pd\n",
      "\n",
      "pd.options.display.mpl_style = 'default'\n",
      "font = {'family':'TakaoGothic'}\n",
      "matplotlib.rc('font', **font)"
     ],
     "language": "python",
     "metadata": {},
     "outputs": [],
     "prompt_number": 1
    },
    {
     "cell_type": "markdown",
     "metadata": {},
     "source": [
      "\u4eca\u56de\u306f **2013\u5e74\u30682014\u5e74** \u306e\u3072\u3063\u305f\u304f\u308a\u60c5\u5831\u3092\u4f7f\u3046\n",
      "\n",
      "\u307e\u305aCSV\u30d5\u30a1\u30a4\u30eb\u304b\u3089\u3072\u3063\u305f\u304f\u308a\u30c7\u30fc\u30bf\u306e\u8aad\u307f\u8fbc\u307f"
     ]
    },
    {
     "cell_type": "code",
     "collapsed": false,
     "input": [
      "df_list = []\n",
      "dir_path = './csvdata/'\n",
      "for path in os.listdir(dir_path):\n",
      "    if not re.match('^00[6].+shinai.csv', path):\n",
      "        continue\n",
      "    df_temp = pd.read_csv(dir_path + path)\n",
      "    df_list.append(df_temp)\n",
      "\n",
      "df = pd.concat(df_list)\n",
      "\n",
      "concated = df.loc[:, '\u5e74'] + df.loc[:, '\u6708'] + df.loc[:, '\u65e5'] + df.loc[:, '\u6642\u9593']\n",
      "df.loc[:, 'datetime'] = concated.map(lambda x: dt.datetime.strptime(x, '%Y\u5e74%m\u6708%d\u65e5%H\u6642\u9803'))\n",
      "\n",
      "df.head()"
     ],
     "language": "python",
     "metadata": {},
     "outputs": [
      {
       "html": [
        "<div style=\"max-height:1000px;max-width:1500px;overflow:auto;\">\n",
        "<table border=\"1\" class=\"dataframe\">\n",
        "  <thead>\n",
        "    <tr style=\"text-align: right;\">\n",
        "      <th></th>\n",
        "      <th>\u5e02\u533a\u753a\u6751</th>\n",
        "      <th>\u753a\u540d</th>\n",
        "      <th>\u4e01\u756a</th>\n",
        "      <th>\u7f6a\u540d</th>\n",
        "      <th>\u65e2\u9042\u672a\u9042\u5225</th>\n",
        "      <th>\u624b\u53e3</th>\n",
        "      <th>\u3072\u3063\u305f\u304f\u308a\u533a\u5206</th>\n",
        "      <th>\u5e74</th>\n",
        "      <th>\u6708</th>\n",
        "      <th>\u65e5</th>\n",
        "      <th>\u6642\u9593</th>\n",
        "      <th>\u88ab\u5bb3\u8005\u306e\u6027\u5225</th>\n",
        "      <th>\u88ab\u5bb3\u8005\u306e\u5e74\u9f62</th>\n",
        "      <th>datetime</th>\n",
        "    </tr>\n",
        "  </thead>\n",
        "  <tbody>\n",
        "    <tr>\n",
        "      <th>0</th>\n",
        "      <td> \u5927\u962a\u5e02\u5317\u533a</td>\n",
        "      <td> \u66fe\u6839\u5d0e</td>\n",
        "      <td> \uff12\u4e01\u76ee\u4ed8\u8fd1</td>\n",
        "      <td> \u7a83\u76d7</td>\n",
        "      <td> \u65e2\u9042</td>\n",
        "      <td> \u3072\u3063\u305f\u304f\u308a</td>\n",
        "      <td> \u81ea\u52d5\u4e8c\u8f2a</td>\n",
        "      <td> 2013\u5e74</td>\n",
        "      <td> 2\u6708</td>\n",
        "      <td> 24\u65e5</td>\n",
        "      <td>  2\u6642\u9803</td>\n",
        "      <td> \u5973\u6027</td>\n",
        "      <td> 30\u4ee3</td>\n",
        "      <td>2013-02-24 02:00:00</td>\n",
        "    </tr>\n",
        "    <tr>\n",
        "      <th>1</th>\n",
        "      <td> \u5927\u962a\u5e02\u5317\u533a</td>\n",
        "      <td>  \u4e2d\u5d0e</td>\n",
        "      <td> \uff13\u4e01\u76ee\u4ed8\u8fd1</td>\n",
        "      <td> \u7a83\u76d7</td>\n",
        "      <td> \u65e2\u9042</td>\n",
        "      <td> \u3072\u3063\u305f\u304f\u308a</td>\n",
        "      <td> \u81ea\u52d5\u4e8c\u8f2a</td>\n",
        "      <td> 2013\u5e74</td>\n",
        "      <td> 3\u6708</td>\n",
        "      <td>  6\u65e5</td>\n",
        "      <td>  1\u6642\u9803</td>\n",
        "      <td> \u5973\u6027</td>\n",
        "      <td> 30\u4ee3</td>\n",
        "      <td>2013-03-06 01:00:00</td>\n",
        "    </tr>\n",
        "    <tr>\n",
        "      <th>2</th>\n",
        "      <td> \u5927\u962a\u5e02\u5317\u533a</td>\n",
        "      <td>  \u4e2d\u5d0e</td>\n",
        "      <td> \uff12\u4e01\u76ee\u4ed8\u8fd1</td>\n",
        "      <td> \u7a83\u76d7</td>\n",
        "      <td> \u65e2\u9042</td>\n",
        "      <td> \u3072\u3063\u305f\u304f\u308a</td>\n",
        "      <td> \u81ea\u52d5\u4e8c\u8f2a</td>\n",
        "      <td> 2013\u5e74</td>\n",
        "      <td> 4\u6708</td>\n",
        "      <td> 19\u65e5</td>\n",
        "      <td> 20\u6642\u9803</td>\n",
        "      <td> \u5973\u6027</td>\n",
        "      <td> 30\u4ee3</td>\n",
        "      <td>2013-04-19 20:00:00</td>\n",
        "    </tr>\n",
        "    <tr>\n",
        "      <th>3</th>\n",
        "      <td> \u5927\u962a\u5e02\u5317\u533a</td>\n",
        "      <td> \u5802\u5c71\u753a</td>\n",
        "      <td>    \u4ed8\u8fd1</td>\n",
        "      <td> \u7a83\u76d7</td>\n",
        "      <td> \u65e2\u9042</td>\n",
        "      <td> \u3072\u3063\u305f\u304f\u308a</td>\n",
        "      <td>   \u5f92\u6b69</td>\n",
        "      <td> 2013\u5e74</td>\n",
        "      <td> 4\u6708</td>\n",
        "      <td>  5\u65e5</td>\n",
        "      <td> 10\u6642\u9803</td>\n",
        "      <td> \u5973\u6027</td>\n",
        "      <td> 70\u4ee3</td>\n",
        "      <td>2013-04-05 10:00:00</td>\n",
        "    </tr>\n",
        "    <tr>\n",
        "      <th>4</th>\n",
        "      <td> \u5927\u962a\u5e02\u5317\u533a</td>\n",
        "      <td> \u66fe\u6839\u5d0e</td>\n",
        "      <td> \uff11\u4e01\u76ee\u4ed8\u8fd1</td>\n",
        "      <td> \u7a83\u76d7</td>\n",
        "      <td> \u65e2\u9042</td>\n",
        "      <td> \u3072\u3063\u305f\u304f\u308a</td>\n",
        "      <td> \u81ea\u52d5\u4e8c\u8f2a</td>\n",
        "      <td> 2013\u5e74</td>\n",
        "      <td> 4\u6708</td>\n",
        "      <td> 22\u65e5</td>\n",
        "      <td> 15\u6642\u9803</td>\n",
        "      <td> \u5973\u6027</td>\n",
        "      <td> 20\u4ee3</td>\n",
        "      <td>2013-04-22 15:00:00</td>\n",
        "    </tr>\n",
        "  </tbody>\n",
        "</table>\n",
        "</div>"
       ],
       "metadata": {},
       "output_type": "pyout",
       "prompt_number": 2,
       "text": [
        "    \u5e02\u533a\u753a\u6751   \u753a\u540d     \u4e01\u756a  \u7f6a\u540d \u65e2\u9042\u672a\u9042\u5225     \u624b\u53e3 \u3072\u3063\u305f\u304f\u308a\u533a\u5206      \u5e74   \u6708    \u65e5    \u6642\u9593 \u88ab\u5bb3\u8005\u306e\u6027\u5225  \\\n",
        "0  \u5927\u962a\u5e02\u5317\u533a  \u66fe\u6839\u5d0e  \uff12\u4e01\u76ee\u4ed8\u8fd1  \u7a83\u76d7    \u65e2\u9042  \u3072\u3063\u305f\u304f\u308a    \u81ea\u52d5\u4e8c\u8f2a  2013\u5e74  2\u6708  24\u65e5   2\u6642\u9803     \u5973\u6027   \n",
        "1  \u5927\u962a\u5e02\u5317\u533a   \u4e2d\u5d0e  \uff13\u4e01\u76ee\u4ed8\u8fd1  \u7a83\u76d7    \u65e2\u9042  \u3072\u3063\u305f\u304f\u308a    \u81ea\u52d5\u4e8c\u8f2a  2013\u5e74  3\u6708   6\u65e5   1\u6642\u9803     \u5973\u6027   \n",
        "2  \u5927\u962a\u5e02\u5317\u533a   \u4e2d\u5d0e  \uff12\u4e01\u76ee\u4ed8\u8fd1  \u7a83\u76d7    \u65e2\u9042  \u3072\u3063\u305f\u304f\u308a    \u81ea\u52d5\u4e8c\u8f2a  2013\u5e74  4\u6708  19\u65e5  20\u6642\u9803     \u5973\u6027   \n",
        "3  \u5927\u962a\u5e02\u5317\u533a  \u5802\u5c71\u753a     \u4ed8\u8fd1  \u7a83\u76d7    \u65e2\u9042  \u3072\u3063\u305f\u304f\u308a      \u5f92\u6b69  2013\u5e74  4\u6708   5\u65e5  10\u6642\u9803     \u5973\u6027   \n",
        "4  \u5927\u962a\u5e02\u5317\u533a  \u66fe\u6839\u5d0e  \uff11\u4e01\u76ee\u4ed8\u8fd1  \u7a83\u76d7    \u65e2\u9042  \u3072\u3063\u305f\u304f\u308a    \u81ea\u52d5\u4e8c\u8f2a  2013\u5e74  4\u6708  22\u65e5  15\u6642\u9803     \u5973\u6027   \n",
        "\n",
        "  \u88ab\u5bb3\u8005\u306e\u5e74\u9f62            datetime  \n",
        "0    30\u4ee3 2013-02-24 02:00:00  \n",
        "1    30\u4ee3 2013-03-06 01:00:00  \n",
        "2    30\u4ee3 2013-04-19 20:00:00  \n",
        "3    70\u4ee3 2013-04-05 10:00:00  \n",
        "4    20\u4ee3 2013-04-22 15:00:00  "
       ]
      }
     ],
     "prompt_number": 2
    },
    {
     "cell_type": "markdown",
     "metadata": {},
     "source": [
      "\u6708\u3054\u3068\u306e\u767a\u751f\u4ef6\u6570\u306e\u68d2\u30b0\u30e9\u30d5"
     ]
    },
    {
     "cell_type": "code",
     "collapsed": false,
     "input": [
      "ts = df.datetime\n",
      "ts = pd.Series(1, index=ts)\n",
      "ts.resample('M', how='sum').plot(kind='bar')"
     ],
     "language": "python",
     "metadata": {},
     "outputs": [
      {
       "metadata": {},
       "output_type": "pyout",
       "prompt_number": 3,
       "text": [
        "<matplotlib.axes._subplots.AxesSubplot at 0x7f29d1aba8d0>"
       ]
      },
      {
       "metadata": {},
       "output_type": "display_data",
       "png": "[encoded data removed]",
       "text": [
        "<matplotlib.figure.Figure at 0x7f29daed5dd8>"
       ]
      }
     ],
     "prompt_number": 3
    },
    {
     "cell_type": "heading",
     "level": 2,
     "metadata": {},
     "source": [
      "\u3072\u3063\u305f\u304f\u308a\u306b\u95a2\u3059\u308b\u60c5\u5831\u3092\u898b\u3066\u307f\u308b"
     ]
    },
    {
     "cell_type": "markdown",
     "metadata": {},
     "source": [
      "[\u3072\u3063\u305f\u304f\u308a\u88ab\u5bb3\u306b\u3042\u308f\u306a\u3044\u305f\u3081\u306b\u3000\uff1a\u8b66\u8996\u5e81](http://www.keishicho.metro.tokyo.jp/seian/bouhan/bouhan1.htm) (\u4ee5\u4e0b\uff0c\u300c\u8b66\u8996\u5e81\u306e\u8cc7\u6599\u300d\u3068\u547c\u3076\u3053\u3068\u306b\u3059\u308b)\u3068\u6bd4\u8f03\u3057\u306a\u304c\u3089\u8272\u3005\u30d7\u30ed\u30c3\u30c8\u3057\u305f\u308a\u3057\u3066\u307f\u308b\n",
      "\n",
      "\u307e\u305a\uff0c\u88ab\u5bb3\u8005\u306e\u6027\u5225\u3092\u898b\u3066\u307f\u308b\uff0e"
     ]
    },
    {
     "cell_type": "code",
     "collapsed": false,
     "input": [
      "df.loc[:, '\u88ab\u5bb3\u8005\u306e\u6027\u5225'].value_counts()"
     ],
     "language": "python",
     "metadata": {},
     "outputs": [
      {
       "metadata": {},
       "output_type": "pyout",
       "prompt_number": 4,
       "text": [
        "\u5973\u6027    1386\n",
        "dtype: int64"
       ]
      }
     ],
     "prompt_number": 4
    },
    {
     "cell_type": "markdown",
     "metadata": {},
     "source": [
      "\u88ab\u5bb3\u8005\u306f\u5168\u54e1\u5973\u6027\u3060\u3063\u305f\uff0e\n",
      "\n",
      "\n",
      "\u66dc\u65e5\u306b\u3088\u3063\u3066\u3072\u3063\u305f\u304f\u308a\u767a\u751f\u4ef6\u6570\u306b\u9055\u3044\u304c\u3042\u308b\u304b\u898b\u3066\u307f\u308b"
     ]
    },
    {
     "cell_type": "code",
     "collapsed": false,
     "input": [
      "num2wd = dict(zip(range(7), tuple('\u6708\u706b\u6c34\u6728\u91d1\u571f\u65e5')))\n",
      "ts = df.datetime.map(lambda x: x.weekday()).map(lambda x: num2wd[x])\n",
      "vcount = ts.value_counts()\n",
      "vcount.loc[list('\u6708\u706b\u6c34\u6728\u91d1\u571f\u65e5')].plot(kind='bar')"
     ],
     "language": "python",
     "metadata": {},
     "outputs": [
      {
       "metadata": {},
       "output_type": "pyout",
       "prompt_number": 5,
       "text": [
        "<matplotlib.axes._subplots.AxesSubplot at 0x7f29daed5e10>"
       ]
      },
      {
       "metadata": {},
       "output_type": "display_data",
       "png": "[encoded data removed]",
       "text": [
        "<matplotlib.figure.Figure at 0x7f29d153fe10>"
       ]
      }
     ],
     "prompt_number": 5
    },
    {
     "cell_type": "markdown",
     "metadata": {},
     "source": [
      "\u30b0\u30e9\u30d5\u3092\u63cf\u3044\u3066\u307f\u308b\u3068\uff0c\u5927\u962a\u5e02\u306e\u5834\u5408\u306f\u706b\u66dc\u65e5\u306e\u767a\u751f\u4ef6\u6570\u304c\u591a\u3081\uff0c\u65e5\u66dc\u65e5\u304c\u5c11\u306a\u3081\u306b\u898b\u3048\u308b\uff0e\n",
      "\n",
      "\u3068\u3053\u308d\u3067\u8b66\u8996\u5e81\u306e\u8cc7\u6599\u306b\u3082\u540c\u69d8\u306e\u56f3\u304c\u3042\u308b\uff0e"
     ]
    },
    {
     "cell_type": "markdown",
     "metadata": {},
     "source": [
      "<img src=\"http://www.keishicho.metro.tokyo.jp/seian/bouhan/image/g03.gif\">"
     ]
    },
    {
     "cell_type": "markdown",
     "metadata": {},
     "source": [
      "\u6b21\u306b\u300c\u3072\u3063\u305f\u304f\u308a\u533a\u5206\u300d\uff0c\u3064\u307e\u308a\u3072\u3063\u305f\u304f\u308a\u72af\u306e\u79fb\u52d5\u624b\u6bb5\u306b\u3064\u3044\u3066\u898b\u3066\u307f\u308b\uff0e"
     ]
    },
    {
     "cell_type": "code",
     "collapsed": false,
     "input": [
      "df.loc[:, '\u3072\u3063\u305f\u304f\u308a\u533a\u5206'].value_counts()"
     ],
     "language": "python",
     "metadata": {},
     "outputs": [
      {
       "metadata": {},
       "output_type": "pyout",
       "prompt_number": 6,
       "text": [
        "\u81ea\u52d5\u4e8c\u8f2a    839\n",
        "\u81ea\u8ee2\u8eca     375\n",
        "\u5f92\u6b69       93\n",
        "\u81ea\u52d5\u8eca      79\n",
        "dtype: int64"
       ]
      }
     ],
     "prompt_number": 6
    },
    {
     "cell_type": "markdown",
     "metadata": {},
     "source": [
      "\u81ea\u52d5\u4e8c\u8f2a\u304c\u5727\u5012\u7684\u306b\u591a\u3044\u3068\u3044\u3046\u3053\u3068\u304c\u308f\u304b\u308b\uff0e\n",
      "\n",
      "\u81ea\u52d5\u8eca\u306b\u3088\u308b\u3072\u3063\u305f\u304f\u308a\u3082\u305d\u308c\u306a\u308a\u306b\u767a\u751f\u3057\u3066\u3044\u308b\u3053\u3068\u3092\u306f\u3058\u3081\u3066\u77e5\u3063\u305f\uff0e\n",
      "\n",
      "\n",
      "\u6b21\u306b\u533a\u5225\u306e\u767a\u751f\u4ef6\u6570\u3092\u898b\u3066\u307f\u308b\uff0e"
     ]
    },
    {
     "cell_type": "code",
     "collapsed": false,
     "input": [
      "df.loc[:, '\u5e02\u533a\u753a\u6751'].value_counts()"
     ],
     "language": "python",
     "metadata": {},
     "outputs": [
      {
       "metadata": {},
       "output_type": "pyout",
       "prompt_number": 7,
       "text": [
        "\u5927\u962a\u5e02\u4e2d\u592e\u533a     147\n",
        "\u5927\u962a\u5e02\u5317\u533a      120\n",
        "\u5927\u962a\u5e02\u6dc0\u5ddd\u533a     102\n",
        "\u5927\u962a\u5e02\u4f4f\u5409\u533a      90\n",
        "\u5927\u962a\u5e02\u6d6a\u901f\u533a      79\n",
        "\u5927\u962a\u5e02\u90fd\u5cf6\u533a      74\n",
        "\u5927\u962a\u5e02\u897f\u6210\u533a      73\n",
        "\u5927\u962a\u5e02\u6771\u6dc0\u5ddd\u533a     73\n",
        "\u5927\u962a\u5e02\u751f\u91ce\u533a      72\n",
        "\u5927\u962a\u5e02\u6771\u4f4f\u5409\u533a     68\n",
        "\u5927\u962a\u5e02\u5e73\u91ce\u533a      67\n",
        "\u5927\u962a\u5e02\u57ce\u6771\u533a      58\n",
        "\u5927\u962a\u5e02\u963f\u500d\u91ce\u533a     56\n",
        "\u5927\u962a\u5e02\u897f\u533a       49\n",
        "\u5927\u962a\u5e02\u5929\u738b\u5bfa\u533a     48\n",
        "\u5927\u962a\u5e02\u6771\u6210\u533a      39\n",
        "\u5927\u962a\u5e02\u4f4f\u4e4b\u6c5f\u533a     38\n",
        "\u5927\u962a\u5e02\u798f\u5cf6\u533a      34\n",
        "\u5927\u962a\u5e02\u897f\u6dc0\u5ddd\u533a     31\n",
        "\u5927\u962a\u5e02\u65ed\u533a       22\n",
        "\u5927\u962a\u5e02\u9db4\u898b\u533a      14\n",
        "\u5927\u962a\u5e02\u6e2f\u533a       14\n",
        "\u5927\u962a\u5e02\u6b64\u82b1\u533a      10\n",
        "\u5927\u962a\u5e02\u5927\u6b63\u533a       8\n",
        "dtype: int64"
       ]
      }
     ],
     "prompt_number": 7
    },
    {
     "cell_type": "markdown",
     "metadata": {},
     "source": [
      "\u3088\u304f\u308f\u304b\u3089\u306a\u304b\u3063\u305f\n",
      "\n",
      "\u6b21\u306b\u6642\u523b\u5225\u306e\u767a\u751f\u4ef6\u6570\u3092\u8abf\u3079\u3066\u307f\u308b\uff0e"
     ]
    },
    {
     "cell_type": "code",
     "collapsed": false,
     "input": [
      "vcount = df.loc[:, '\u6642\u9593'].value_counts()\n",
      "vcount.sort_index()\n",
      "vcount_time = vcount[[str(n)+'\u6642\u9803' for n in range(24)]]\n",
      "vcount_time.plot(kind='bar', title='')"
     ],
     "language": "python",
     "metadata": {},
     "outputs": [
      {
       "metadata": {},
       "output_type": "pyout",
       "prompt_number": 8,
       "text": [
        "<matplotlib.axes._subplots.AxesSubplot at 0x7f29dbd34ef0>"
       ]
      },
      {
       "metadata": {},
       "output_type": "display_data",
       "png": "[encoded data removed]",
       "text": [
        "<matplotlib.figure.Figure at 0x7f29daee3a90>"
       ]
      }
     ],
     "prompt_number": 8
    },
    {
     "cell_type": "markdown",
     "metadata": {},
     "source": [
      "\u591c\u306b\u767a\u751f\u4ef6\u6570\u304c\u5897\u52a0\u3059\u308b\u306e\u306f\u3044\u3044\u3068\u3057\u3066\uff0c17\u6642\u9803\u3060\u3051\u4e0d\u81ea\u7136\u306b\u591a\u3044\u306e\u304c\u6c17\u306b\u306a\u3063\u305f\uff0e\n",
      "\n",
      "\u4e2d\u9ad8\u751f\u304c\u5e30\u5b85\u3059\u308b\u6642\u9593\u5e2f?\u3092\u72d9\u3063\u3066\u306e\u72af\u884c\u304b\uff0c\u3042\u308b\u3044\u306f\u5831\u544a\u3059\u308b\u969b\u306b\u4f55\u3089\u304b\u306e\u30d0\u30a4\u30a2\u30b9\u304c\u304b\u304b\u3063\u305f\u304b\n",
      "\n",
      "\u3061\u306a\u307f\u306b\u8b66\u8996\u5e81\u306e\u8cc7\u6599\u4e2d\u306b\u540c\u69d8\u306e\u30b0\u30e9\u30d5\u304c\u3042\u308b\u306e\u3067\u6bd4\u8f03\u3057\u3066\u307f\u308b\uff0e"
     ]
    },
    {
     "cell_type": "markdown",
     "metadata": {},
     "source": [
      "<img src=\"http://www.keishicho.metro.tokyo.jp/seian/bouhan/image/g02.gif\">"
     ]
    },
    {
     "cell_type": "markdown",
     "metadata": {},
     "source": [
      "\u6642\u9593\u5e2f\u306b\u3088\u3063\u3066\uff0c\u3072\u3063\u305f\u304f\u308a\u306b\u5408\u3046\u306e\u88ab\u5bb3\u8005\u306e\u5e74\u9f62\u306f\u5909\u5316\u3057\u305d\u3046\u3067\u3042\u308b\uff0e(\u4f8b\u3048\u3070\u5915\u65b9\u306f10\u4ee3\u306e\u88ab\u5bb3\u8005\u304c\u591a\u305d\u3046)\n",
      "\n",
      "\u3053\u308c\u3092\u898b\u308b\u305f\u3081\u306b\u3072\u3063\u305f\u304f\u308a\u306e\u767a\u751f\u6642\u9593\u5e2f\u306e\u68d2\u30b0\u30e9\u30d5\u3092\u5e74\u4ee3\u5225\u7a4d\u307f\u4e0a\u3052\u68d2\u30b0\u30e9\u30d5\u306b\u5909\u66f4\u3057\u3066\u307f\u308b"
     ]
    },
    {
     "cell_type": "code",
     "collapsed": false,
     "input": [
      "df.loc[:, 'one'] = 1\n",
      "df2 = df.pivot_table(values='one', aggfunc=np.sum, index='\u6642\u9593', columns='\u88ab\u5bb3\u8005\u306e\u5e74\u9f62')\n",
      "df2 = df2.loc[[str(n)+'\u6642\u9803' for n in range(23)], :]  # index\u3067\u4e26\u3073\u66ff\u3048\n",
      "df2 = df2.fillna(0)\n",
      "df2.plot(kind='bar', stacked=True)\n",
      "plt.legend(loc='center left', bbox_to_anchor=(1, 0.5))"
     ],
     "language": "python",
     "metadata": {},
     "outputs": [
      {
       "metadata": {},
       "output_type": "pyout",
       "prompt_number": 9,
       "text": [
        "<matplotlib.legend.Legend at 0x7f29d139d240>"
       ]
      },
      {
       "metadata": {},
       "output_type": "display_data",
       "png": "[encoded data removed]",
       "text": [
        "<matplotlib.figure.Figure at 0x7f29d1366cc0>"
       ]
      }
     ],
     "prompt_number": 9
    },
    {
     "cell_type": "markdown",
     "metadata": {},
     "source": [
      "\u6708\u5225\u767a\u751f\u4ef6\u6570\u3092\u898b\u3066\u307f\u308b"
     ]
    },
    {
     "cell_type": "code",
     "collapsed": false,
     "input": [
      "vcount = df.loc[:, '\u6708'].value_counts()\n",
      "vcount.sort_index()\n",
      "vcount_time = vcount[[str(n)+'\u6708' for n in range(1,13)]]\n",
      "vcount_time.plot(kind='bar', title='')"
     ],
     "language": "python",
     "metadata": {},
     "outputs": [
      {
       "metadata": {},
       "output_type": "pyout",
       "prompt_number": 10,
       "text": [
        "<matplotlib.axes._subplots.AxesSubplot at 0x7f29d127c908>"
       ]
      },
      {
       "metadata": {},
       "output_type": "display_data",
       "png": "[encoded data removed]",
       "text": [
        "<matplotlib.figure.Figure at 0x7f29d1348358>"
       ]
      }
     ],
     "prompt_number": 10
    },
    {
     "cell_type": "markdown",
     "metadata": {},
     "source": [
      "4\u6708\u304b\u30898\u6708\u306e\u671f\u9593\u306b\u767a\u751f\u4ef6\u6570\u304c\u5c11\u3057\u591a\u3044\u6c17\u304c\u3059\u308b\uff0e\n",
      "\n",
      "11\u6708\u3060\u3051\u767a\u751f\u4ef6\u6570\u304c\u6975\u7aef\u306b\u5c11\u306a\u3044\u3088\u3046\u306b\u898b\u3048\u308b\u304c\uff0c\u7406\u7531\u304c\u5168\u304f\u4e88\u60f3\u3067\u304d\u306a\u3044\uff0e"
     ]
    },
    {
     "cell_type": "heading",
     "level": 1,
     "metadata": {},
     "source": [
      "\u5b9f\u884c\u74b0\u5883"
     ]
    },
    {
     "cell_type": "code",
     "collapsed": false,
     "input": [
      "%load_ext version_information\n",
      "%version_information pandas,matplotlib"
     ],
     "language": "python",
     "metadata": {},
     "outputs": [
      {
       "html": [
        "<table><tr><th>Software</th><th>Version</th></tr><tr><td>Python</td><td>3.4.2 64bit [GCC 4.8.2]</td></tr><tr><td>IPython</td><td>2.4.1</td></tr><tr><td>OS</td><td>Linux 3.13.0 55 generic x86_64 with debian jessie sid</td></tr><tr><td>pandas</td><td>0.15.2</td></tr><tr><td>matplotlib</td><td>1.4.3</td></tr><tr><td colspan='2'>Sat Jun 27 14:58:47 2015 JST</td></tr></table>"
       ],
       "json": [
        "{\"Software versions\": [{\"version\": \"3.4.2 64bit [GCC 4.8.2]\", \"module\": \"Python\"}, {\"version\": \"2.4.1\", \"module\": \"IPython\"}, {\"version\": \"Linux 3.13.0 55 generic x86_64 with debian jessie sid\", \"module\": \"OS\"}, {\"version\": \"0.15.2\", \"module\": \"pandas\"}, {\"version\": \"1.4.3\", \"module\": \"matplotlib\"}]}"
       ],
       "latex": [
        "\\begin{tabular}{|l|l|}\\hline\n",
        "{\\bf Software} & {\\bf Version} \\\\ \\hline\\hline\n",
        "Python & 3.4.2 64bit [GCC 4.8.2] \\\\ \\hline\n",
        "IPython & 2.4.1 \\\\ \\hline\n",
        "OS & Linux 3.13.0 55 generic x86\\_64 with debian jessie sid \\\\ \\hline\n",
        "pandas & 0.15.2 \\\\ \\hline\n",
        "matplotlib & 1.4.3 \\\\ \\hline\n",
        "\\hline \\multicolumn{2}{|l|}{Sat Jun 27 14:58:47 2015 JST} \\\\ \\hline\n",
        "\\end{tabular}\n"
       ],
       "metadata": {},
       "output_type": "pyout",
       "prompt_number": 11,
       "text": [
        "Software versions\n",
        "Python 3.4.2 64bit [GCC 4.8.2]\n",
        "IPython 2.4.1\n",
        "OS Linux 3.13.0 55 generic x86_64 with debian jessie sid\n",
        "pandas 0.15.2\n",
        "matplotlib 1.4.3\n",
        "Sat Jun 27 14:58:47 2015 JST"
       ]
      }
     ],
     "prompt_number": 11
    },
    {
     "cell_type": "heading",
     "level": 1,
     "metadata": {},
     "source": [
      "\u53c2\u8003\u6587\u732e"
     ]
    },
    {
     "cell_type": "markdown",
     "metadata": {},
     "source": [
      "* [\u5927\u962a\u5e02\u5e02\u6c11\u306e\u65b9\u3078\u3000\u5927\u962a\u5e02\u306e\u72af\u7f6a\u767a\u751f\u60c5\u5831](http://www.city.osaka.lg.jp/shimin/page/0000298810.html)\n",
      "* [\u3072\u3063\u305f\u304f\u308a\u88ab\u5bb3\u306b\u3042\u308f\u306a\u3044\u305f\u3081\u306b\u3000\uff1a\u8b66\u8996\u5e81](http://www.keishicho.metro.tokyo.jp/seian/bouhan/bouhan1.htm)"
     ]
    }
   ],
   "metadata": {}
  }
 ]
}